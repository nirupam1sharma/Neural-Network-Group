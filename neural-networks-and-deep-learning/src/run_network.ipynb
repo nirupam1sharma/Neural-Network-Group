{
 "cells": [
  {
   "cell_type": "markdown",
   "metadata": {},
   "source": [
    "# Network from Nielsen's Chapter 1\n",
    "http://neuralnetworksanddeeplearning.com/chap1.html#implementing_our_network_to_classify_digits"
   ]
  },
  {
   "cell_type": "markdown",
   "metadata": {
    "collapsed": true
   },
   "source": [
    "## Load MNIST Data"
   ]
  },
  {
   "cell_type": "code",
   "execution_count": 5,
   "metadata": {
    "collapsed": false
   },
   "outputs": [],
   "source": [
    "import mnist_loader"
   ]
  },
  {
   "cell_type": "code",
   "execution_count": 6,
   "metadata": {
    "collapsed": false
   },
   "outputs": [],
   "source": [
    "training_data, validation_data, test_data = mnist_loader.load_data_wrapper()"
   ]
  },
  {
   "cell_type": "markdown",
   "metadata": {
    "collapsed": true
   },
   "source": [
    "## Set up Network"
   ]
  },
  {
   "cell_type": "code",
   "execution_count": 9,
   "metadata": {
    "collapsed": true
   },
   "outputs": [],
   "source": [
    "import network"
   ]
  },
  {
   "cell_type": "code",
   "execution_count": 10,
   "metadata": {
    "collapsed": true
   },
   "outputs": [],
   "source": [
    "# 784 (28 x 28 pixel images) input neurons; 30 hidden neurons; 10 output neurons\n",
    "net = network.Network([784, 30, 10])"
   ]
  },
  {
   "cell_type": "markdown",
   "metadata": {},
   "source": [
    "## Train Network"
   ]
  },
  {
   "cell_type": "code",
   "execution_count": 12,
   "metadata": {
    "collapsed": false
   },
   "outputs": [
    {
     "name": "stdout",
     "output_type": "stream",
     "text": [
      "Epoch 0: 9041 / 10000\n",
      "Epoch 1: 9220 / 10000\n",
      "Epoch 2: 9290 / 10000\n",
      "Epoch 3: 9366 / 10000\n",
      "Epoch 4: 9365 / 10000\n",
      "Epoch 5: 9386 / 10000\n",
      "Epoch 6: 9367 / 10000\n",
      "Epoch 7: 9443 / 10000\n",
      "Epoch 8: 9415 / 10000\n",
      "Epoch 9: 9454 / 10000\n",
      "Epoch 10: 9426 / 10000\n",
      "Epoch 11: 9426 / 10000\n",
      "Epoch 12: 9461 / 10000\n",
      "Epoch 13: 9475 / 10000\n",
      "Epoch 14: 9472 / 10000\n",
      "Epoch 15: 9474 / 10000\n",
      "Epoch 16: 9453 / 10000\n",
      "Epoch 17: 9469 / 10000\n",
      "Epoch 18: 9485 / 10000\n",
      "Epoch 19: 9465 / 10000\n",
      "Epoch 20: 9458 / 10000\n",
      "Epoch 21: 9465 / 10000\n",
      "Epoch 22: 9455 / 10000\n",
      "Epoch 23: 9490 / 10000\n",
      "Epoch 24: 9464 / 10000\n",
      "Epoch 25: 9481 / 10000\n",
      "Epoch 26: 9488 / 10000\n",
      "Epoch 27: 9481 / 10000\n",
      "Epoch 28: 9500 / 10000\n",
      "Epoch 29: 9510 / 10000\n"
     ]
    }
   ],
   "source": [
    "# Use stochastic gradient descent over 30 epochs, with mini-batch size of 10, learning rate of 3.0\n",
    "net.SGD(training_data, 30, 10, 3.0, test_data=test_data)"
   ]
  },
  {
   "cell_type": "markdown",
   "metadata": {},
   "source": [
    "## Exercise: Create network with just two layers"
   ]
  },
  {
   "cell_type": "code",
   "execution_count": 13,
   "metadata": {
    "collapsed": true
   },
   "outputs": [],
   "source": [
    "two_layer_net = network.Network([784, 10])"
   ]
  },
  {
   "cell_type": "code",
   "execution_count": 14,
   "metadata": {
    "collapsed": false
   },
   "outputs": [
    {
     "name": "stdout",
     "output_type": "stream",
     "text": [
      "Epoch 0: 3284 / 10000\n",
      "Epoch 1: 3776 / 10000\n",
      "Epoch 2: 4564 / 10000\n",
      "Epoch 3: 4613 / 10000\n",
      "Epoch 4: 4637 / 10000\n",
      "Epoch 5: 4668 / 10000\n",
      "Epoch 6: 5743 / 10000\n",
      "Epoch 7: 5764 / 10000\n",
      "Epoch 8: 6508 / 10000\n",
      "Epoch 9: 6632 / 10000\n"
     ]
    }
   ],
   "source": [
    "two_layer_net.SGD(training_data, 10, 10, 1.0, test_data=test_data)"
   ]
  },
  {
   "cell_type": "code",
   "execution_count": 15,
   "metadata": {
    "collapsed": false
   },
   "outputs": [
    {
     "name": "stdout",
     "output_type": "stream",
     "text": [
      "Epoch 0: 6602 / 10000\n",
      "Epoch 1: 6623 / 10000\n",
      "Epoch 2: 6647 / 10000\n",
      "Epoch 3: 6681 / 10000\n",
      "Epoch 4: 7274 / 10000\n",
      "Epoch 5: 7380 / 10000\n",
      "Epoch 6: 7422 / 10000\n",
      "Epoch 7: 7440 / 10000\n",
      "Epoch 8: 7420 / 10000\n",
      "Epoch 9: 7441 / 10000\n"
     ]
    }
   ],
   "source": [
    "two_layer_net.SGD(training_data, 10, 10, 2.0, test_data=test_data)"
   ]
  },
  {
   "cell_type": "code",
   "execution_count": 16,
   "metadata": {
    "collapsed": false
   },
   "outputs": [
    {
     "name": "stdout",
     "output_type": "stream",
     "text": [
      "Epoch 0: 7408 / 10000\n",
      "Epoch 1: 7400 / 10000\n",
      "Epoch 2: 7422 / 10000\n",
      "Epoch 3: 7416 / 10000\n",
      "Epoch 4: 7459 / 10000\n",
      "Epoch 5: 8294 / 10000\n",
      "Epoch 6: 8305 / 10000\n",
      "Epoch 7: 8264 / 10000\n",
      "Epoch 8: 8284 / 10000\n",
      "Epoch 9: 8314 / 10000\n"
     ]
    }
   ],
   "source": [
    "two_layer_net.SGD(training_data, 10, 10, 3.0, test_data=test_data)"
   ]
  },
  {
   "cell_type": "code",
   "execution_count": 17,
   "metadata": {
    "collapsed": false
   },
   "outputs": [
    {
     "name": "stdout",
     "output_type": "stream",
     "text": [
      "Epoch 0: 8255 / 10000\n",
      "Epoch 1: 8278 / 10000\n",
      "Epoch 2: 8255 / 10000\n",
      "Epoch 3: 8246 / 10000\n",
      "Epoch 4: 8260 / 10000\n",
      "Epoch 5: 8272 / 10000\n",
      "Epoch 6: 8289 / 10000\n",
      "Epoch 7: 8309 / 10000\n",
      "Epoch 8: 8284 / 10000\n",
      "Epoch 9: 8287 / 10000\n"
     ]
    }
   ],
   "source": [
    "two_layer_net.SGD(training_data, 10, 10, 4.0, test_data=test_data)"
   ]
  },
  {
   "cell_type": "code",
   "execution_count": 18,
   "metadata": {
    "collapsed": false
   },
   "outputs": [
    {
     "name": "stdout",
     "output_type": "stream",
     "text": [
      "Epoch 0: 8311 / 10000\n",
      "Epoch 1: 8277 / 10000\n",
      "Epoch 2: 8303 / 10000\n",
      "Epoch 3: 8300 / 10000\n",
      "Epoch 4: 8293 / 10000\n",
      "Epoch 5: 8301 / 10000\n",
      "Epoch 6: 8295 / 10000\n",
      "Epoch 7: 8292 / 10000\n",
      "Epoch 8: 8305 / 10000\n",
      "Epoch 9: 8289 / 10000\n",
      "Epoch 10: 8307 / 10000\n",
      "Epoch 11: 8304 / 10000\n",
      "Epoch 12: 8294 / 10000\n",
      "Epoch 13: 8291 / 10000\n",
      "Epoch 14: 8299 / 10000\n",
      "Epoch 15: 8309 / 10000\n",
      "Epoch 16: 8314 / 10000\n",
      "Epoch 17: 8323 / 10000\n",
      "Epoch 18: 8301 / 10000\n",
      "Epoch 19: 8311 / 10000\n"
     ]
    }
   ],
   "source": [
    "two_layer_net.SGD(training_data, 20, 10, 3.0, test_data=test_data)"
   ]
  },
  {
   "cell_type": "code",
   "execution_count": null,
   "metadata": {
    "collapsed": true
   },
   "outputs": [],
   "source": []
  }
 ],
 "metadata": {
  "kernelspec": {
   "display_name": "Python 2",
   "language": "python",
   "name": "python2"
  },
  "language_info": {
   "codemirror_mode": {
    "name": "ipython",
    "version": 2
   },
   "file_extension": ".py",
   "mimetype": "text/x-python",
   "name": "python",
   "nbconvert_exporter": "python",
   "pygments_lexer": "ipython2",
   "version": "2.7.11"
  }
 },
 "nbformat": 4,
 "nbformat_minor": 0
}
